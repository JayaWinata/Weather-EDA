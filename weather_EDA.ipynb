{
 "cells": [
  {
   "cell_type": "markdown",
   "metadata": {},
   "source": [
    "# Weather Exploratory Data Analysis (EDA)\n"
   ]
  },
  {
   "cell_type": "markdown",
   "metadata": {},
   "source": [
    "## Overview\n",
    "\n",
    "This project is an exploratory data analysis of weather data for the year 2012. The dataset contains various weather-related measurements recorded at different times throughout the year. You can get the dataset on this [link](https://www.kaggle.com/code/bhanupratapbiswas/weather-data-analysis)\n"
   ]
  }
 ],
 "metadata": {
  "language_info": {
   "name": "python"
  },
  "orig_nbformat": 4
 },
 "nbformat": 4,
 "nbformat_minor": 2
}
